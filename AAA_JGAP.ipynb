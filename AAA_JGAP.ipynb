{
 "cells": [
  {
   "cell_type": "markdown",
   "metadata": {},
   "source": [
    "# PEC 1: Práctica de Aprendizajo Auttomático - Guillermo Aparicio Pulido"
   ]
  },
  {
   "cell_type": "markdown",
   "metadata": {},
   "source": [
    "# Ejercicio 1"
   ]
  },
  {
   "cell_type": "markdown",
   "metadata": {},
   "source": [
    "**En el archivo retail.csv hay 18.000 tickets de compra anonimizados**"
   ]
  },
  {
   "cell_type": "code",
   "execution_count": 21,
   "metadata": {
    "collapsed": true
   },
   "outputs": [],
   "source": [
    "import numpy as np\n",
    "import apriori\n",
    "import csv"
   ]
  },
  {
   "cell_type": "markdown",
   "metadata": {},
   "source": [
    "\n",
    "- Cargamos el fichero retail.csv para trabajar con los datos\n"
   ]
  },
  {
   "cell_type": "code",
   "execution_count": 22,
   "metadata": {},
   "outputs": [],
   "source": [
    "dfRetail = csv.reader(open(\"retail.csv\", \"r\"))"
   ]
  },
  {
   "cell_type": "code",
   "execution_count": 23,
   "metadata": {
    "collapsed": true
   },
   "outputs": [],
   "source": [
    "retail = []\n",
    "\n",
    "for row in dfRetail:\n",
    "    retail.append(row)"
   ]
  },
  {
   "cell_type": "markdown",
   "metadata": {},
   "source": [
    "\n",
    "**Apartado 1** *Obtener los conjuntos de dos, tres y cuatro elementos con mayor soporte.*\n"
   ]
  },
  {
   "cell_type": "code",
   "execution_count": 24,
   "metadata": {},
   "outputs": [
    {
     "name": "stdout",
     "output_type": "stream",
     "text": [
      "{301}:  sup = 0.013\n",
      "{749}:  sup = 0.014\n",
      "{9}:  sup = 0.018\n",
      "{1859}:  sup = 0.019\n",
      "{1327}:  sup = 0.038\n",
      "{592}:  sup = 0.012\n",
      "{19}:  sup = 0.01\n",
      "{270}:  sup = 0.016\n",
      "{3966}:  sup = 0.01\n",
      "{310}:  sup = 0.034\n",
      "{855}:  sup = 0.012\n",
      "{161}:  sup = 0.011\n",
      "{1198}:  sup = 0.02\n",
      "{740}:  sup = 0.013\n",
      "{846}:  sup = 0.013\n",
      "{123}:  sup = 0.015\n",
      "{438}:  sup = 0.024\n",
      "{117}:  sup = 0.019\n",
      "{352}:  sup = 0.023\n",
      "{185}:  sup = 0.013\n",
      "{48}:  sup = 0.44\n",
      "{677}:  sup = 0.012\n",
      "{824}:  sup = 0.016\n",
      "{3270}:  sup = 0.01\n",
      "{8978}:  sup = 0.019\n",
      "{1034}:  sup = 0.015\n",
      "{271}:  sup = 0.02\n",
      "{1121}:  sup = 0.021\n",
      "{189}:  sup = 0.013\n",
      "{65}:  sup = 0.041\n",
      "{201}:  sup = 0.015\n",
      "{956}:  sup = 0.01\n",
      "{237}:  sup = 0.034\n",
      "{101}:  sup = 0.024\n",
      "{94}:  sup = 0.011\n",
      "{170}:  sup = 0.04\n",
      "{1344}:  sup = 0.017\n",
      "{976}:  sup = 0.014\n",
      "{39}:  sup = 0.558\n",
      "{249}:  sup = 0.013\n",
      "{286}:  sup = 0.012\n",
      "{1715}:  sup = 0.017\n",
      "{179}:  sup = 0.012\n",
      "{604}:  sup = 0.025\n",
      "{647}:  sup = 0.012\n",
      "{32}:  sup = 0.177\n",
      "{533}:  sup = 0.018\n",
      "{60}:  sup = 0.023\n",
      "{208}:  sup = 0.014\n",
      "{79}:  sup = 0.018\n",
      "{89}:  sup = 0.038\n",
      "{769}:  sup = 0.017\n",
      "{225}:  sup = 0.027\n",
      "{475}:  sup = 0.029\n",
      "{522}:  sup = 0.016\n",
      "{41}:  sup = 0.267\n",
      "{570}:  sup = 0.01\n",
      "{156}:  sup = 0.014\n",
      "{37}:  sup = 0.011\n",
      "{1004}:  sup = 0.012\n",
      "{1233}:  sup = 0.011\n",
      "{1146}:  sup = 0.021\n",
      "{2238}:  sup = 0.016\n",
      "{338}:  sup = 0.015\n",
      "{147}:  sup = 0.019\n",
      "{110}:  sup = 0.03\n",
      "{589}:  sup = 0.014\n",
      "{783}:  sup = 0.016\n",
      "{36}:  sup = 0.033\n",
      "{1578}:  sup = 0.01\n",
      "{255}:  sup = 0.018\n",
      "{38}:  sup = 0.173\n",
      "{39, 110}:  sup = 0.018\n",
      "{1121, 39}:  sup = 0.013\n",
      "{41, 475}:  sup = 0.012\n",
      "{32, 41}:  sup = 0.059\n",
      "{39, 41}:  sup = 0.2\n",
      "{36, 48}:  sup = 0.014\n",
      "{117, 39}:  sup = 0.01\n",
      "{32, 48}:  sup = 0.092\n",
      "{32, 38}:  sup = 0.031\n",
      "{1327, 48}:  sup = 0.019\n",
      "{39, 310}:  sup = 0.024\n",
      "{38, 286}:  sup = 0.011\n",
      "{39, 89}:  sup = 0.026\n",
      "{237, 41}:  sup = 0.011\n",
      "{38, 48}:  sup = 0.08\n",
      "{48, 41}:  sup = 0.151\n",
      "{39, 1146}:  sup = 0.014\n",
      "{2238, 39}:  sup = 0.011\n",
      "{1146, 48}:  sup = 0.011\n",
      "{89, 41}:  sup = 0.013\n",
      "{110, 41}:  sup = 0.011\n",
      "{65, 41}:  sup = 0.014\n",
      "{39, 533}:  sup = 0.012\n",
      "{270, 39}:  sup = 0.01\n",
      "{39, 1327}:  sup = 0.025\n",
      "{39, 438}:  sup = 0.016\n",
      "{1859, 48}:  sup = 0.01\n",
      "{604, 48}:  sup = 0.012\n",
      "{65, 48}:  sup = 0.022\n",
      "{48, 438}:  sup = 0.012\n",
      "{147, 48}:  sup = 0.011\n",
      "{271, 39}:  sup = 0.013\n",
      "{39, 475}:  sup = 0.019\n",
      "{39, 1344}:  sup = 0.011\n",
      "{310, 41}:  sup = 0.015\n",
      "{8978, 48}:  sup = 0.011\n",
      "{225, 48}:  sup = 0.012\n",
      "{39, 225}:  sup = 0.019\n",
      "{39, 255}:  sup = 0.012\n",
      "{225, 41}:  sup = 0.011\n",
      "{38, 41}:  sup = 0.07\n",
      "{39, 101}:  sup = 0.014\n",
      "{38, 37}:  sup = 0.011\n",
      "{60, 39}:  sup = 0.015\n",
      "{101, 48}:  sup = 0.013\n",
      "{8978, 39}:  sup = 0.014\n",
      "{117, 48}:  sup = 0.011\n",
      "{39, 36}:  sup = 0.022\n",
      "{110, 48}:  sup = 0.013\n",
      "{1198, 48}:  sup = 0.011\n",
      "{1198, 39}:  sup = 0.012\n",
      "{352, 48}:  sup = 0.013\n",
      "{9, 39}:  sup = 0.01\n",
      "{39, 522}:  sup = 0.011\n",
      "{310, 48}:  sup = 0.021\n",
      "{89, 48}:  sup = 0.026\n",
      "{533, 48}:  sup = 0.01\n",
      "{1859, 39}:  sup = 0.01\n",
      "{39, 352}:  sup = 0.012\n",
      "{38, 36}:  sup = 0.031\n",
      "{39, 237}:  sup = 0.022\n",
      "{39, 38}:  sup = 0.113\n",
      "{604, 39}:  sup = 0.016\n",
      "{38, 110}:  sup = 0.029\n",
      "{1327, 41}:  sup = 0.012\n",
      "{48, 255}:  sup = 0.012\n",
      "{48, 475}:  sup = 0.017\n",
      "{237, 48}:  sup = 0.018\n",
      "{48, 170}:  sup = 0.017\n",
      "{147, 39}:  sup = 0.011\n",
      "{60, 48}:  sup = 0.011\n",
      "{39, 79}:  sup = 0.012\n",
      "{41, 170}:  sup = 0.016\n",
      "{48, 783}:  sup = 0.01\n",
      "{38, 170}:  sup = 0.039\n",
      "{39, 170}:  sup = 0.026\n",
      "{1146, 41}:  sup = 0.01\n",
      "{36, 41}:  sup = 0.013\n",
      "{39, 48}:  sup = 0.3\n",
      "{1121, 48}:  sup = 0.012\n",
      "{32, 39}:  sup = 0.098\n",
      "{39, 65}:  sup = 0.023\n",
      "{39, 48, 475}:  sup = 0.014\n",
      "{39, 38, 41}:  sup = 0.054\n",
      "{38, 36, 48}:  sup = 0.014\n",
      "{38, 48, 41}:  sup = 0.04\n",
      "{39, 48, 41}:  sup = 0.123\n",
      "{39, 65, 41}:  sup = 0.011\n",
      "{38, 48, 170}:  sup = 0.017\n",
      "{39, 89, 48}:  sup = 0.019\n",
      "{310, 48, 41}:  sup = 0.011\n",
      "{32, 38, 41}:  sup = 0.015\n",
      "{89, 48, 41}:  sup = 0.01\n",
      "{39, 38, 110}:  sup = 0.018\n",
      "{38, 170, 41}:  sup = 0.016\n",
      "{39, 38, 48}:  sup = 0.061\n",
      "{39, 38, 36}:  sup = 0.021\n",
      "{39, 310, 41}:  sup = 0.013\n",
      "{39, 48, 170}:  sup = 0.013\n",
      "{39, 1327, 48}:  sup = 0.015\n",
      "{38, 110, 41}:  sup = 0.011\n",
      "{39, 310, 48}:  sup = 0.017\n",
      "{39, 110, 48}:  sup = 0.01\n",
      "{39, 89, 41}:  sup = 0.011\n",
      "{38, 110, 48}:  sup = 0.013\n",
      "{32, 48, 41}:  sup = 0.036\n",
      "{39, 36, 48}:  sup = 0.011\n",
      "{32, 39, 41}:  sup = 0.043\n",
      "{39, 237, 48}:  sup = 0.013\n",
      "{32, 39, 38}:  sup = 0.019\n",
      "{39, 38, 170}:  sup = 0.026\n",
      "{38, 36, 41}:  sup = 0.012\n",
      "{32, 39, 48}:  sup = 0.059\n",
      "{39, 36, 41}:  sup = 0.01\n",
      "{32, 38, 48}:  sup = 0.017\n",
      "{39, 65, 48}:  sup = 0.014\n",
      "{39, 170, 41}:  sup = 0.012\n",
      "{39, 38, 48, 36}:  sup = 0.01\n",
      "{39, 38, 110, 48}:  sup = 0.01\n",
      "{39, 38, 32, 41}:  sup = 0.011\n",
      "{39, 38, 170, 41}:  sup = 0.011\n",
      "{39, 38, 48, 170}:  sup = 0.013\n",
      "{39, 48, 32, 41}:  sup = 0.029\n",
      "{39, 38, 48, 32}:  sup = 0.013\n",
      "{39, 38, 48, 41}:  sup = 0.034\n"
     ]
    }
   ],
   "source": [
    "F, soporte = apriori.apriori(retail, min_support=0.01, verbose=True)"
   ]
  },
  {
   "cell_type": "markdown",
   "metadata": {},
   "source": [
    "Identificamos cuales son los soportes para los conjuntos de dos, tres y cuatro items:\n",
    "\n",
    "2 elementos -> sup = 0.3\n",
    "\n",
    "&nbsp;\n",
    "3 elementos -> sup = 0.123\n",
    "\n",
    "&nbsp;\n",
    "4 elementos -> sup = 0.034"
   ]
  },
  {
   "cell_type": "markdown",
   "metadata": {},
   "source": [
    "\n",
    "**Apartado 2**.\t*Utilizando como soporte mínimo el obtenido en paso anterior para el conjunto de tres elementos, obtener todas las reglas de asociación con confianza de 0,8*\n"
   ]
  },
  {
   "cell_type": "code",
   "execution_count": 27,
   "metadata": {},
   "outputs": [
    {
     "name": "stdout",
     "output_type": "stream",
     "text": [
      "{48}:  sup = 0.44\n",
      "{39}:  sup = 0.558\n",
      "{32}:  sup = 0.177\n",
      "{41}:  sup = 0.267\n",
      "{38}:  sup = 0.173\n",
      "{39, 41}:  sup = 0.2\n",
      "{39, 48}:  sup = 0.3\n",
      "{48, 41}:  sup = 0.151\n"
     ]
    }
   ],
   "source": [
    "# Generamos un conjunto de candidatos según support y confidence de una lista de items frecuentes.\n",
    "P, supp = apriori.apriori(retail, min_support=0.123, verbose = True)"
   ]
  },
  {
   "cell_type": "code",
   "execution_count": 28,
   "metadata": {
    "scrolled": true
   },
   "outputs": [
    {
     "name": "stdout",
     "output_type": "stream",
     "text": [
      "{41} ---> {39}:  conf = 0.749, sup = 0.2\n"
     ]
    }
   ],
   "source": [
    "H = apriori.generate_rules(P, supp, min_confidence=0.7, verbose=True)"
   ]
  },
  {
   "cell_type": "raw",
   "metadata": {},
   "source": [
    "\n",
    "*Apartado 3.\tUtilizando como soporte mínimo el obtenido en el primer paso para el conjunto de cuatro elementos, obtener todas las reglas de asociación con confianza de 0,5*\n"
   ]
  },
  {
   "cell_type": "code",
   "execution_count": 29,
   "metadata": {},
   "outputs": [
    {
     "name": "stdout",
     "output_type": "stream",
     "text": [
      "{1327}:  sup = 0.038\n",
      "{310}:  sup = 0.034\n",
      "{48}:  sup = 0.44\n",
      "{65}:  sup = 0.041\n",
      "{237}:  sup = 0.034\n",
      "{170}:  sup = 0.04\n",
      "{39}:  sup = 0.558\n",
      "{32}:  sup = 0.177\n",
      "{89}:  sup = 0.038\n",
      "{41}:  sup = 0.267\n",
      "{38}:  sup = 0.173\n",
      "{39, 41}:  sup = 0.2\n",
      "{39, 38}:  sup = 0.113\n",
      "{38, 170}:  sup = 0.039\n",
      "{32, 39}:  sup = 0.098\n",
      "{38, 41}:  sup = 0.07\n",
      "{38, 48}:  sup = 0.08\n",
      "{48, 41}:  sup = 0.151\n",
      "{32, 41}:  sup = 0.059\n",
      "{32, 48}:  sup = 0.092\n",
      "{39, 48}:  sup = 0.3\n",
      "{39, 38, 41}:  sup = 0.054\n",
      "{32, 39, 48}:  sup = 0.059\n",
      "{32, 39, 41}:  sup = 0.043\n",
      "{38, 48, 41}:  sup = 0.04\n",
      "{39, 48, 41}:  sup = 0.123\n",
      "{32, 48, 41}:  sup = 0.036\n",
      "{39, 38, 48}:  sup = 0.061\n"
     ]
    }
   ],
   "source": [
    "# Generamos un conjunto de candidatos según support y confidence de una lista de items frecuentes.\n",
    "P, supp = apriori.apriori(retail, min_support=0.034, verbose = True)"
   ]
  },
  {
   "cell_type": "code",
   "execution_count": 30,
   "metadata": {},
   "outputs": [
    {
     "name": "stdout",
     "output_type": "stream",
     "text": [
      "{41} ---> {39}:  conf = 0.749, sup = 0.2\n",
      "{38} ---> {39}:  conf = 0.651, sup = 0.113\n",
      "{170} ---> {38}:  conf = 0.984, sup = 0.039\n",
      "{32} ---> {39}:  conf = 0.552, sup = 0.098\n",
      "{41} ---> {48}:  conf = 0.566, sup = 0.151\n",
      "{32} ---> {48}:  conf = 0.517, sup = 0.092\n",
      "{48} ---> {39}:  conf = 0.682, sup = 0.3\n",
      "{39} ---> {48}:  conf = 0.537, sup = 0.3\n",
      "{38, 41} ---> {39}:  conf = 0.773, sup = 0.054\n",
      "{32, 48} ---> {39}:  conf = 0.645, sup = 0.059\n",
      "{32, 39} ---> {48}:  conf = 0.604, sup = 0.059\n",
      "{32, 41} ---> {39}:  conf = 0.721, sup = 0.043\n",
      "{38, 41} ---> {48}:  conf = 0.571, sup = 0.04\n",
      "{48, 41} ---> {39}:  conf = 0.812, sup = 0.123\n",
      "{39, 41} ---> {48}:  conf = 0.613, sup = 0.123\n",
      "{32, 41} ---> {48}:  conf = 0.611, sup = 0.036\n",
      "{38, 48} ---> {39}:  conf = 0.765, sup = 0.061\n",
      "{39, 38} ---> {48}:  conf = 0.544, sup = 0.061\n"
     ]
    }
   ],
   "source": [
    "H = apriori.generate_rules(P, supp, min_confidence=0.5, verbose=True)"
   ]
  },
  {
   "cell_type": "markdown",
   "metadata": {},
   "source": [
    "# Ejercicio 2:"
   ]
  },
  {
   "cell_type": "markdown",
   "metadata": {},
   "source": [
    "**En el conjunto de datos Baskeball.csv se encuentran las siguientes columnas para diferentes jugadores:**\n",
    "   \n",
    "    •\tX1: altura en pies\n",
    "    •\tX2: peso en libras\n",
    "    •\tX3: porcentaje de tiros de campo exitosos\n",
    "    •\tX4: porcentaje de tiros libres exitosos\n",
    "    •\tX5: puntos promedio anotados por juego\n",
    "\n",
    "Intentar predecir el porcentaje de tiros de campo exitosos para un jugador en base al resto de variables utilizando la regresión lineal y regresión LASSO con parámetros alpha de 0.01, 0.1 y 0.5.\n"
   ]
  },
  {
   "cell_type": "code",
   "execution_count": 94,
   "metadata": {
    "collapsed": true
   },
   "outputs": [],
   "source": [
    "from sklearn.neighbors import RadiusNeighborsClassifier\n",
    "from sklearn.linear_model import LinearRegression\n",
    "from sklearn.model_selection import train_test_split\n",
    "from sklearn import linear_model\n",
    "import pandas as pd\n",
    "from pandas.plotting import scatter_matrix\n",
    "import csv"
   ]
  },
  {
   "cell_type": "code",
   "execution_count": 95,
   "metadata": {
    "collapsed": true
   },
   "outputs": [],
   "source": [
    "dfBasket = pd.read_csv('Basketball.csv', sep=',', header=0, error_bad_lines=False)"
   ]
  },
  {
   "cell_type": "code",
   "execution_count": 96,
   "metadata": {},
   "outputs": [
    {
     "data": {
      "text/html": [
       "<div>\n",
       "<style>\n",
       "    .dataframe thead tr:only-child th {\n",
       "        text-align: right;\n",
       "    }\n",
       "\n",
       "    .dataframe thead th {\n",
       "        text-align: left;\n",
       "    }\n",
       "\n",
       "    .dataframe tbody tr th {\n",
       "        vertical-align: top;\n",
       "    }\n",
       "</style>\n",
       "<table border=\"1\" class=\"dataframe\">\n",
       "  <thead>\n",
       "    <tr style=\"text-align: right;\">\n",
       "      <th></th>\n",
       "      <th>X1</th>\n",
       "      <th>X2</th>\n",
       "      <th>X3</th>\n",
       "      <th>X4</th>\n",
       "      <th>X5</th>\n",
       "    </tr>\n",
       "  </thead>\n",
       "  <tbody>\n",
       "    <tr>\n",
       "      <th>0</th>\n",
       "      <td>6.8</td>\n",
       "      <td>225</td>\n",
       "      <td>0.442</td>\n",
       "      <td>0.672</td>\n",
       "      <td>9.2</td>\n",
       "    </tr>\n",
       "    <tr>\n",
       "      <th>1</th>\n",
       "      <td>6.3</td>\n",
       "      <td>180</td>\n",
       "      <td>0.435</td>\n",
       "      <td>0.797</td>\n",
       "      <td>11.7</td>\n",
       "    </tr>\n",
       "    <tr>\n",
       "      <th>2</th>\n",
       "      <td>6.4</td>\n",
       "      <td>190</td>\n",
       "      <td>0.456</td>\n",
       "      <td>0.761</td>\n",
       "      <td>15.8</td>\n",
       "    </tr>\n",
       "    <tr>\n",
       "      <th>3</th>\n",
       "      <td>6.2</td>\n",
       "      <td>180</td>\n",
       "      <td>0.416</td>\n",
       "      <td>0.651</td>\n",
       "      <td>8.6</td>\n",
       "    </tr>\n",
       "    <tr>\n",
       "      <th>4</th>\n",
       "      <td>6.9</td>\n",
       "      <td>205</td>\n",
       "      <td>0.449</td>\n",
       "      <td>0.900</td>\n",
       "      <td>23.2</td>\n",
       "    </tr>\n",
       "  </tbody>\n",
       "</table>\n",
       "</div>"
      ],
      "text/plain": [
       "    X1   X2     X3     X4    X5\n",
       "0  6.8  225  0.442  0.672   9.2\n",
       "1  6.3  180  0.435  0.797  11.7\n",
       "2  6.4  190  0.456  0.761  15.8\n",
       "3  6.2  180  0.416  0.651   8.6\n",
       "4  6.9  205  0.449  0.900  23.2"
      ]
     },
     "execution_count": 96,
     "metadata": {},
     "output_type": "execute_result"
    }
   ],
   "source": [
    "dfBasket.head(5)"
   ]
  },
  {
   "cell_type": "code",
   "execution_count": 97,
   "metadata": {},
   "outputs": [
    {
     "data": {
      "text/html": [
       "<div>\n",
       "<style>\n",
       "    .dataframe thead tr:only-child th {\n",
       "        text-align: right;\n",
       "    }\n",
       "\n",
       "    .dataframe thead th {\n",
       "        text-align: left;\n",
       "    }\n",
       "\n",
       "    .dataframe tbody tr th {\n",
       "        vertical-align: top;\n",
       "    }\n",
       "</style>\n",
       "<table border=\"1\" class=\"dataframe\">\n",
       "  <thead>\n",
       "    <tr style=\"text-align: right;\">\n",
       "      <th></th>\n",
       "      <th>X1</th>\n",
       "      <th>X2</th>\n",
       "      <th>X3</th>\n",
       "      <th>X4</th>\n",
       "      <th>X5</th>\n",
       "    </tr>\n",
       "  </thead>\n",
       "  <tbody>\n",
       "    <tr>\n",
       "      <th>count</th>\n",
       "      <td>54.000000</td>\n",
       "      <td>54.000000</td>\n",
       "      <td>54.000000</td>\n",
       "      <td>54.000000</td>\n",
       "      <td>54.000000</td>\n",
       "    </tr>\n",
       "    <tr>\n",
       "      <th>mean</th>\n",
       "      <td>6.587037</td>\n",
       "      <td>209.907407</td>\n",
       "      <td>0.449111</td>\n",
       "      <td>0.741852</td>\n",
       "      <td>11.790741</td>\n",
       "    </tr>\n",
       "    <tr>\n",
       "      <th>std</th>\n",
       "      <td>0.458894</td>\n",
       "      <td>30.265036</td>\n",
       "      <td>0.056551</td>\n",
       "      <td>0.100146</td>\n",
       "      <td>5.899257</td>\n",
       "    </tr>\n",
       "    <tr>\n",
       "      <th>min</th>\n",
       "      <td>5.700000</td>\n",
       "      <td>105.000000</td>\n",
       "      <td>0.291000</td>\n",
       "      <td>0.244000</td>\n",
       "      <td>2.800000</td>\n",
       "    </tr>\n",
       "    <tr>\n",
       "      <th>25%</th>\n",
       "      <td>6.225000</td>\n",
       "      <td>185.000000</td>\n",
       "      <td>0.415250</td>\n",
       "      <td>0.713000</td>\n",
       "      <td>8.150000</td>\n",
       "    </tr>\n",
       "    <tr>\n",
       "      <th>50%</th>\n",
       "      <td>6.650000</td>\n",
       "      <td>212.500000</td>\n",
       "      <td>0.443500</td>\n",
       "      <td>0.753500</td>\n",
       "      <td>10.750000</td>\n",
       "    </tr>\n",
       "    <tr>\n",
       "      <th>75%</th>\n",
       "      <td>6.900000</td>\n",
       "      <td>235.000000</td>\n",
       "      <td>0.483500</td>\n",
       "      <td>0.795250</td>\n",
       "      <td>13.600000</td>\n",
       "    </tr>\n",
       "    <tr>\n",
       "      <th>max</th>\n",
       "      <td>7.600000</td>\n",
       "      <td>263.000000</td>\n",
       "      <td>0.599000</td>\n",
       "      <td>0.900000</td>\n",
       "      <td>27.400000</td>\n",
       "    </tr>\n",
       "  </tbody>\n",
       "</table>\n",
       "</div>"
      ],
      "text/plain": [
       "              X1          X2         X3         X4         X5\n",
       "count  54.000000   54.000000  54.000000  54.000000  54.000000\n",
       "mean    6.587037  209.907407   0.449111   0.741852  11.790741\n",
       "std     0.458894   30.265036   0.056551   0.100146   5.899257\n",
       "min     5.700000  105.000000   0.291000   0.244000   2.800000\n",
       "25%     6.225000  185.000000   0.415250   0.713000   8.150000\n",
       "50%     6.650000  212.500000   0.443500   0.753500  10.750000\n",
       "75%     6.900000  235.000000   0.483500   0.795250  13.600000\n",
       "max     7.600000  263.000000   0.599000   0.900000  27.400000"
      ]
     },
     "execution_count": 97,
     "metadata": {},
     "output_type": "execute_result"
    }
   ],
   "source": [
    "dfBasket.describe()"
   ]
  },
  {
   "cell_type": "markdown",
   "metadata": {},
   "source": [
    "Podemos ver en la gráfica anterior los valores mas significantes de cada atributo en todo el equipo"
   ]
  },
  {
   "cell_type": "code",
   "execution_count": 103,
   "metadata": {},
   "outputs": [
    {
     "data": {
      "image/png": "[encoded data removed]",
      "text/plain": [
       "<matplotlib.figure.Figure at 0xdd3cbd0>"
      ]
     },
     "metadata": {},
     "output_type": "display_data"
    }
   ],
   "source": [
    "dfBasket.hist(figsize = (10, 10));"
   ]
  },
  {
   "cell_type": "markdown",
   "metadata": {},
   "source": [
    "Continuaremos separando nuestra variable a analizar de el resto de ellas."
   ]
  },
  {
   "cell_type": "code",
   "execution_count": 104,
   "metadata": {},
   "outputs": [],
   "source": [
    "target = 'X3'\n",
    "features = list(dfBasket.columns)\n",
    "features.remove('X3')"
   ]
  },
  {
   "cell_type": "markdown",
   "metadata": {},
   "source": [
    "Definimos X con las variables X1, X2, X4 y X5 y para y la variable X3"
   ]
  },
  {
   "cell_type": "code",
   "execution_count": 105,
   "metadata": {
    "collapsed": true
   },
   "outputs": [],
   "source": [
    "x = dfBasket[features]\n",
    "y = dfBasket[target]"
   ]
  },
  {
   "cell_type": "markdown",
   "metadata": {},
   "source": [
    "Aplicamos la función para el entrenamiento y evaluación"
   ]
  },
  {
   "cell_type": "code",
   "execution_count": 106,
   "metadata": {},
   "outputs": [],
   "source": [
    "x_train, x_test, y_train, y_test = train_test_split(x, y)"
   ]
  },
  {
   "cell_type": "markdown",
   "metadata": {},
   "source": [
    "Creamos el modelo de regresión lineal"
   ]
  },
  {
   "cell_type": "code",
   "execution_count": 107,
   "metadata": {},
   "outputs": [
    {
     "data": {
      "text/plain": [
       "LinearRegression(copy_X=True, fit_intercept=True, n_jobs=1, normalize=False)"
      ]
     },
     "execution_count": 107,
     "metadata": {},
     "output_type": "execute_result"
    }
   ],
   "source": [
    "model = LinearRegression()\n",
    "model.fit(x_train, y_train)"
   ]
  },
  {
   "cell_type": "code",
   "execution_count": 108,
   "metadata": {
    "collapsed": true
   },
   "outputs": [],
   "source": [
    "predit_train = model.predict(x_train)\n",
    "predit_test = model.predict(x_test)"
   ]
  },
  {
   "cell_type": "code",
   "execution_count": 109,
   "metadata": {},
   "outputs": [
    {
     "name": "stdout",
     "output_type": "stream",
     "text": [
      "('R2 en entrenamiento es: ', 0.38378069378399049)\n",
      "('R2 en validacion es: ', 0.34245673440575064)\n"
     ]
    }
   ],
   "source": [
    "# Evaluación de R2\n",
    "print('R2 en entrenamiento es: ', model.score(x_train, y_train))\n",
    "print('R2 en validacion es: ', model.score(x_test, y_test))"
   ]
  },
  {
   "cell_type": "markdown",
   "metadata": {},
   "source": [
    "## Regresión LASSO"
   ]
  },
  {
   "cell_type": "code",
   "execution_count": 111,
   "metadata": {
    "collapsed": true
   },
   "outputs": [],
   "source": [
    "from sklearn.linear_model import Lasso"
   ]
  },
  {
   "cell_type": "markdown",
   "metadata": {},
   "source": [
    "*Regresión LASSO con  α=0.01α=0.01*"
   ]
  },
  {
   "cell_type": "code",
   "execution_count": null,
   "metadata": {
    "collapsed": true
   },
   "outputs": [],
   "source": []
  },
  {
   "cell_type": "code",
   "execution_count": 114,
   "metadata": {},
   "outputs": [
    {
     "name": "stdout",
     "output_type": "stream",
     "text": [
      "('R2 en entrenamiento es: ', 0.37585402148749764)\n",
      "('R2 en validacion es: ', 0.311631077673162)\n"
     ]
    }
   ],
   "source": [
    "model_lasso = Lasso(alpha = 0.001)\n",
    "model_lasso.fit(x_train, y_train)\n",
    "\n",
    "predit_train = model_lasso.predict(x_train)\n",
    "predit_test = model_lasso.predict(x_test)\n",
    "\n",
    "print('R2 en entrenamiento es: ', model_lasso.score(x_train, y_train))\n",
    "print('R2 en validacion es: ', model_lasso.score(x_test, y_test))"
   ]
  },
  {
   "cell_type": "code",
   "execution_count": null,
   "metadata": {
    "collapsed": true
   },
   "outputs": [],
   "source": []
  },
  {
   "cell_type": "code",
   "execution_count": 115,
   "metadata": {},
   "outputs": [
    {
     "name": "stdout",
     "output_type": "stream",
     "text": [
      "[  5.95469211e-05   7.19675644e-04  -0.00000000e+00   3.09332892e-03]\n"
     ]
    },
    {
     "ename": "NameError",
     "evalue": "name 'cross_val_score' is not defined",
     "output_type": "error",
     "traceback": [
      "\u001b[1;31m---------------------------------------------------------------------------\u001b[0m",
      "\u001b[1;31mNameError\u001b[0m                                 Traceback (most recent call last)",
      "\u001b[1;32m<ipython-input-115-ce4d1d034245>\u001b[0m in \u001b[0;36m<module>\u001b[1;34m()\u001b[0m\n\u001b[0;32m      1\u001b[0m \u001b[1;32mprint\u001b[0m\u001b[1;33m(\u001b[0m\u001b[0mmodel_lasso\u001b[0m\u001b[1;33m.\u001b[0m\u001b[0mcoef_\u001b[0m\u001b[1;33m)\u001b[0m\u001b[1;33m\u001b[0m\u001b[0m\n\u001b[0;32m      2\u001b[0m \u001b[1;33m\u001b[0m\u001b[0m\n\u001b[1;32m----> 3\u001b[1;33m \u001b[0mscores\u001b[0m \u001b[1;33m=\u001b[0m \u001b[0mcross_val_score\u001b[0m\u001b[1;33m(\u001b[0m\u001b[0mmodel_lasso\u001b[0m\u001b[1;33m,\u001b[0m \u001b[0mx\u001b[0m\u001b[1;33m,\u001b[0m \u001b[0my\u001b[0m\u001b[1;33m,\u001b[0m \u001b[0mcv\u001b[0m \u001b[1;33m=\u001b[0m \u001b[1;36m5\u001b[0m\u001b[1;33m)\u001b[0m\u001b[1;33m\u001b[0m\u001b[0m\n\u001b[0m\u001b[0;32m      4\u001b[0m \u001b[1;33m\u001b[0m\u001b[0m\n\u001b[0;32m      5\u001b[0m \u001b[1;32mprint\u001b[0m\u001b[1;33m(\u001b[0m\u001b[1;34m'La media de los R2 es:'\u001b[0m\u001b[1;33m,\u001b[0m \u001b[0mscores\u001b[0m\u001b[1;33m.\u001b[0m\u001b[0mmean\u001b[0m\u001b[1;33m(\u001b[0m\u001b[1;33m)\u001b[0m\u001b[1;33m)\u001b[0m\u001b[1;33m\u001b[0m\u001b[0m\n",
      "\u001b[1;31mNameError\u001b[0m: name 'cross_val_score' is not defined"
     ]
    }
   ],
   "source": [
    "print(model_lasso.coef_)\n",
    "\n",
    "scores = cross_val_score(model_lasso, x, y, cv = 5)\n",
    "\n",
    "print('La media de los R2 es:', scores.mean())\n",
    "print('Los R2 son: ', scores)"
   ]
  },
  {
   "cell_type": "markdown",
   "metadata": {},
   "source": [
    "# EJERCICIO 3"
   ]
  },
  {
   "cell_type": "markdown",
   "metadata": {},
   "source": [
    "\n",
    "En el archivo ionosphere.csv hay datos de la ionosfera. Las 34 primeras columnas son valores numéricos y la última es una etiqueta de texto con ‘g’ cuando el resultado es bueno y ‘b’ cuando es malo. Importar este conjunto de datos y crear un modelo de clasificación utilizando clasificadores regresión logística, máquinas de vector soporte y k-nn con 3 y 5 vecinos. Los datos se han de dividir en un conjunto de entrenamiento que contenga el 80% de los datos y otro test con el resto."
   ]
  },
  {
   "cell_type": "code",
   "execution_count": 74,
   "metadata": {},
   "outputs": [
    {
     "name": "stdout",
     "output_type": "stream",
     "text": [
      "Using matplotlib backend: Qt5Agg\n",
      "Populating the interactive namespace from numpy and matplotlib\n"
     ]
    }
   ],
   "source": [
    "%pylab\n",
    "%matplotlib inline"
   ]
  },
  {
   "cell_type": "code",
   "execution_count": 75,
   "metadata": {},
   "outputs": [
    {
     "data": {
      "text/html": [
       "<div>\n",
       "<style>\n",
       "    .dataframe thead tr:only-child th {\n",
       "        text-align: right;\n",
       "    }\n",
       "\n",
       "    .dataframe thead th {\n",
       "        text-align: left;\n",
       "    }\n",
       "\n",
       "    .dataframe tbody tr th {\n",
       "        vertical-align: top;\n",
       "    }\n",
       "</style>\n",
       "<table border=\"1\" class=\"dataframe\">\n",
       "  <thead>\n",
       "    <tr style=\"text-align: right;\">\n",
       "      <th></th>\n",
       "      <th>0</th>\n",
       "      <th>1</th>\n",
       "      <th>2</th>\n",
       "      <th>3</th>\n",
       "      <th>4</th>\n",
       "      <th>5</th>\n",
       "      <th>6</th>\n",
       "      <th>7</th>\n",
       "      <th>8</th>\n",
       "      <th>9</th>\n",
       "      <th>...</th>\n",
       "      <th>25</th>\n",
       "      <th>26</th>\n",
       "      <th>27</th>\n",
       "      <th>28</th>\n",
       "      <th>29</th>\n",
       "      <th>30</th>\n",
       "      <th>31</th>\n",
       "      <th>32</th>\n",
       "      <th>33</th>\n",
       "      <th>34</th>\n",
       "    </tr>\n",
       "  </thead>\n",
       "  <tbody>\n",
       "    <tr>\n",
       "      <th>0</th>\n",
       "      <td>1</td>\n",
       "      <td>0</td>\n",
       "      <td>0.99539</td>\n",
       "      <td>-0.05889</td>\n",
       "      <td>0.85243</td>\n",
       "      <td>0.02306</td>\n",
       "      <td>0.83398</td>\n",
       "      <td>-0.37708</td>\n",
       "      <td>1.00000</td>\n",
       "      <td>0.03760</td>\n",
       "      <td>...</td>\n",
       "      <td>-0.51171</td>\n",
       "      <td>0.41078</td>\n",
       "      <td>-0.46168</td>\n",
       "      <td>0.21266</td>\n",
       "      <td>-0.34090</td>\n",
       "      <td>0.42267</td>\n",
       "      <td>-0.54487</td>\n",
       "      <td>0.18641</td>\n",
       "      <td>-0.45300</td>\n",
       "      <td>g</td>\n",
       "    </tr>\n",
       "    <tr>\n",
       "      <th>1</th>\n",
       "      <td>1</td>\n",
       "      <td>0</td>\n",
       "      <td>1.00000</td>\n",
       "      <td>-0.18829</td>\n",
       "      <td>0.93035</td>\n",
       "      <td>-0.36156</td>\n",
       "      <td>-0.10868</td>\n",
       "      <td>-0.93597</td>\n",
       "      <td>1.00000</td>\n",
       "      <td>-0.04549</td>\n",
       "      <td>...</td>\n",
       "      <td>-0.26569</td>\n",
       "      <td>-0.20468</td>\n",
       "      <td>-0.18401</td>\n",
       "      <td>-0.19040</td>\n",
       "      <td>-0.11593</td>\n",
       "      <td>-0.16626</td>\n",
       "      <td>-0.06288</td>\n",
       "      <td>-0.13738</td>\n",
       "      <td>-0.02447</td>\n",
       "      <td>b</td>\n",
       "    </tr>\n",
       "    <tr>\n",
       "      <th>2</th>\n",
       "      <td>1</td>\n",
       "      <td>0</td>\n",
       "      <td>1.00000</td>\n",
       "      <td>-0.03365</td>\n",
       "      <td>1.00000</td>\n",
       "      <td>0.00485</td>\n",
       "      <td>1.00000</td>\n",
       "      <td>-0.12062</td>\n",
       "      <td>0.88965</td>\n",
       "      <td>0.01198</td>\n",
       "      <td>...</td>\n",
       "      <td>-0.40220</td>\n",
       "      <td>0.58984</td>\n",
       "      <td>-0.22145</td>\n",
       "      <td>0.43100</td>\n",
       "      <td>-0.17365</td>\n",
       "      <td>0.60436</td>\n",
       "      <td>-0.24180</td>\n",
       "      <td>0.56045</td>\n",
       "      <td>-0.38238</td>\n",
       "      <td>g</td>\n",
       "    </tr>\n",
       "    <tr>\n",
       "      <th>3</th>\n",
       "      <td>1</td>\n",
       "      <td>0</td>\n",
       "      <td>1.00000</td>\n",
       "      <td>-0.45161</td>\n",
       "      <td>1.00000</td>\n",
       "      <td>1.00000</td>\n",
       "      <td>0.71216</td>\n",
       "      <td>-1.00000</td>\n",
       "      <td>0.00000</td>\n",
       "      <td>0.00000</td>\n",
       "      <td>...</td>\n",
       "      <td>0.90695</td>\n",
       "      <td>0.51613</td>\n",
       "      <td>1.00000</td>\n",
       "      <td>1.00000</td>\n",
       "      <td>-0.20099</td>\n",
       "      <td>0.25682</td>\n",
       "      <td>1.00000</td>\n",
       "      <td>-0.32382</td>\n",
       "      <td>1.00000</td>\n",
       "      <td>b</td>\n",
       "    </tr>\n",
       "    <tr>\n",
       "      <th>4</th>\n",
       "      <td>1</td>\n",
       "      <td>0</td>\n",
       "      <td>1.00000</td>\n",
       "      <td>-0.02401</td>\n",
       "      <td>0.94140</td>\n",
       "      <td>0.06531</td>\n",
       "      <td>0.92106</td>\n",
       "      <td>-0.23255</td>\n",
       "      <td>0.77152</td>\n",
       "      <td>-0.16399</td>\n",
       "      <td>...</td>\n",
       "      <td>-0.65158</td>\n",
       "      <td>0.13290</td>\n",
       "      <td>-0.53206</td>\n",
       "      <td>0.02431</td>\n",
       "      <td>-0.62197</td>\n",
       "      <td>-0.05707</td>\n",
       "      <td>-0.59573</td>\n",
       "      <td>-0.04608</td>\n",
       "      <td>-0.65697</td>\n",
       "      <td>g</td>\n",
       "    </tr>\n",
       "  </tbody>\n",
       "</table>\n",
       "<p>5 rows × 35 columns</p>\n",
       "</div>"
      ],
      "text/plain": [
       "   0   1        2        3        4        5        6        7        8   \\\n",
       "0   1   0  0.99539 -0.05889  0.85243  0.02306  0.83398 -0.37708  1.00000   \n",
       "1   1   0  1.00000 -0.18829  0.93035 -0.36156 -0.10868 -0.93597  1.00000   \n",
       "2   1   0  1.00000 -0.03365  1.00000  0.00485  1.00000 -0.12062  0.88965   \n",
       "3   1   0  1.00000 -0.45161  1.00000  1.00000  0.71216 -1.00000  0.00000   \n",
       "4   1   0  1.00000 -0.02401  0.94140  0.06531  0.92106 -0.23255  0.77152   \n",
       "\n",
       "        9  ...       25       26       27       28       29       30       31  \\\n",
       "0  0.03760 ... -0.51171  0.41078 -0.46168  0.21266 -0.34090  0.42267 -0.54487   \n",
       "1 -0.04549 ... -0.26569 -0.20468 -0.18401 -0.19040 -0.11593 -0.16626 -0.06288   \n",
       "2  0.01198 ... -0.40220  0.58984 -0.22145  0.43100 -0.17365  0.60436 -0.24180   \n",
       "3  0.00000 ...  0.90695  0.51613  1.00000  1.00000 -0.20099  0.25682  1.00000   \n",
       "4 -0.16399 ... -0.65158  0.13290 -0.53206  0.02431 -0.62197 -0.05707 -0.59573   \n",
       "\n",
       "        32       33  34  \n",
       "0  0.18641 -0.45300   g  \n",
       "1 -0.13738 -0.02447   b  \n",
       "2  0.56045 -0.38238   g  \n",
       "3 -0.32382  1.00000   b  \n",
       "4 -0.04608 -0.65697   g  \n",
       "\n",
       "[5 rows x 35 columns]"
      ]
     },
     "execution_count": 75,
     "metadata": {},
     "output_type": "execute_result"
    }
   ],
   "source": [
    "import pandas as pd\n",
    "from sklearn.datasets import make_classification\n",
    "from sklearn.cross_validation import train_test_split\n",
    "\n",
    "dfIon = pd.read_csv(\"ionosphere.csv\", sep=\",\", header = None)\n",
    "dfIon.head(5)"
   ]
  },
  {
   "cell_type": "code",
   "execution_count": 76,
   "metadata": {
    "collapsed": true
   },
   "outputs": [],
   "source": [
    "from sklearn.metrics import accuracy_score, auc, confusion_matrix, f1_score, precision_score, recall_score, roc_curve\n",
    "\n",
    "def metricas_modelos(y_true, y_pred):\n",
    "    from sklearn.metrics import accuracy_score, auc, confusion_matrix, f1_score, precision_score, recall_score, roc_curve\n",
    "\n",
    "    # Obtención de matriz de confusión\n",
    "    confusion_matrix = confusion_matrix(y_true, y_pred)\n",
    "\n",
    "    print('La matriz de confusión es')\n",
    "    print(confusion_matrix)\n",
    "\n",
    "    print('Precisión:', accuracy_score(y_true, y_pred))\n",
    "    print('Exactitud:', precision_score(y_true, y_pred))\n",
    "    print('Exhaustividad:', recall_score(y_true, y_pred))\n",
    "    print('F1:', f1_score(y_true, y_pred))\n",
    "\n",
    "    false_positive_rate, recall, thresholds = roc_curve(y_true, y_pred)\n",
    "    roc_auc = auc(false_positive_rate, recall)\n",
    "\n",
    "    print('AUC:', auc(false_positive_rate, recall))\n",
    "\n",
    "    plot(false_positive_rate, recall, 'b')\n",
    "    plot([0, 1], [0, 1], 'r--')\n",
    "    title('AUC = %0.2f' % roc_auc)"
   ]
  },
  {
   "cell_type": "markdown",
   "metadata": {},
   "source": [
    "Reemplazamos los valores 'b' y 'g' de la variable 34 por el valor 0 y 1 respectivamente."
   ]
  },
  {
   "cell_type": "code",
   "execution_count": 77,
   "metadata": {},
   "outputs": [],
   "source": [
    "dfIon.replace(['b', 'g'], [0, 1], inplace=True)"
   ]
  },
  {
   "cell_type": "markdown",
   "metadata": {},
   "source": [
    "Separaremos la variable que queremos evaluar, en este caso es la que marca si el resultado es bueno o malo para nuestra clasificación."
   ]
  },
  {
   "cell_type": "code",
   "execution_count": 78,
   "metadata": {
    "collapsed": true
   },
   "outputs": [],
   "source": [
    "target = 34\n",
    "features = list(dfIon.columns)\n",
    "features.remove(34)"
   ]
  },
  {
   "cell_type": "markdown",
   "metadata": {},
   "source": [
    "Separamos el conjunto de datos en 2 variables"
   ]
  },
  {
   "cell_type": "code",
   "execution_count": 79,
   "metadata": {
    "collapsed": true
   },
   "outputs": [],
   "source": [
    "x = dfIon[features]\n",
    "y = dfIon[target]"
   ]
  },
  {
   "cell_type": "code",
   "execution_count": 80,
   "metadata": {
    "collapsed": true
   },
   "outputs": [],
   "source": [
    "from sklearn.datasets import make_classification\n",
    "from sklearn.cross_validation import train_test_split\n",
    "\n",
    "x_train, x_test, y_train, y_test = train_test_split(x, y, train_size = 0.8)"
   ]
  },
  {
   "cell_type": "markdown",
   "metadata": {},
   "source": [
    "# Regresión logística"
   ]
  },
  {
   "cell_type": "code",
   "execution_count": 81,
   "metadata": {},
   "outputs": [
    {
     "name": "stdout",
     "output_type": "stream",
     "text": [
      "La matriz de confusión es\n",
      "[[ 84  20]\n",
      " [  3 173]]\n",
      "('Precisi\\xc3\\xb3n:', 0.91785714285714282)\n",
      "('Exactitud:', 0.89637305699481862)\n",
      "('Exhaustividad:', 0.98295454545454541)\n",
      "('F1:', 0.93766937669376682)\n",
      "('AUC:', 0.89532342657342656)\n"
     ]
    },
    {
     "data": {
      "image/png": "[encoded data removed]",
      "text/plain": [
       "<matplotlib.figure.Figure at 0xe0baaf0>"
      ]
     },
     "metadata": {},
     "output_type": "display_data"
    }
   ],
   "source": [
    "from sklearn.linear_model.logistic import LogisticRegression\n",
    "\n",
    "classifier = LogisticRegression().fit(x_train, y_train)\n",
    "y_pred     = classifier.predict(x_train)\n",
    "\n",
    "metricas_modelos(y_train, y_pred)"
   ]
  },
  {
   "cell_type": "code",
   "execution_count": 82,
   "metadata": {},
   "outputs": [
    {
     "name": "stdout",
     "output_type": "stream",
     "text": [
      "La matriz de confusión es\n",
      "[[14  8]\n",
      " [ 3 46]]\n",
      "('Precisi\\xc3\\xb3n:', 0.84507042253521125)\n",
      "('Exactitud:', 0.85185185185185186)\n",
      "('Exhaustividad:', 0.93877551020408168)\n",
      "('F1:', 0.89320388349514579)\n",
      "('AUC:', 0.78756957328385901)\n"
     ]
    },
    {
     "data": {
      "image/png": "[encoded data removed]",
      "text/plain": [
       "<matplotlib.figure.Figure at 0xe0cd230>"
      ]
     },
     "metadata": {},
     "output_type": "display_data"
    }
   ],
   "source": [
    "y_pred     = classifier.predict(x_test)\n",
    "\n",
    "metricas_modelos(y_test, y_pred)"
   ]
  },
  {
   "cell_type": "markdown",
   "metadata": {},
   "source": [
    "# Máquinas de vector soporte "
   ]
  },
  {
   "cell_type": "markdown",
   "metadata": {},
   "source": [
    "El método de clasificación SVM busca un hiperplano que separe de forma óptima a los puntos de una clase de la de otra."
   ]
  },
  {
   "cell_type": "code",
   "execution_count": 83,
   "metadata": {
    "collapsed": true
   },
   "outputs": [],
   "source": [
    "from sklearn.svm import SVC"
   ]
  },
  {
   "cell_type": "markdown",
   "metadata": {},
   "source": [
    "Compara el entrenamiento con el modelo predictivo"
   ]
  },
  {
   "cell_type": "code",
   "execution_count": 84,
   "metadata": {},
   "outputs": [
    {
     "name": "stdout",
     "output_type": "stream",
     "text": [
      "La matriz de confusión es\n",
      "[[ 91  13]\n",
      " [  1 175]]\n",
      "('Precisi\\xc3\\xb3n:', 0.94999999999999996)\n",
      "('Exactitud:', 0.93085106382978722)\n",
      "('Exhaustividad:', 0.99431818181818177)\n",
      "('F1:', 0.96153846153846156)\n",
      "('AUC:', 0.93465909090909083)\n"
     ]
    },
    {
     "data": {
      "image/png": "[encoded data removed]",
      "text/plain": [
       "<matplotlib.figure.Figure at 0xe259790>"
      ]
     },
     "metadata": {},
     "output_type": "display_data"
    }
   ],
   "source": [
    "svm_classifier = SVC().fit(x_train, y_train)\n",
    "y_pred         = svm_classifier.predict(x_train)\n",
    "\n",
    "metricas_modelos(y_train, y_pred)"
   ]
  },
  {
   "cell_type": "markdown",
   "metadata": {},
   "source": [
    "Compara el modelo de evaluación con el modelo predictivo"
   ]
  },
  {
   "cell_type": "code",
   "execution_count": 85,
   "metadata": {},
   "outputs": [
    {
     "name": "stdout",
     "output_type": "stream",
     "text": [
      "La matriz de confusión es\n",
      "[[18  4]\n",
      " [ 2 47]]\n",
      "('Precisi\\xc3\\xb3n:', 0.91549295774647887)\n",
      "('Exactitud:', 0.92156862745098034)\n",
      "('Exhaustividad:', 0.95918367346938771)\n",
      "('F1:', 0.94000000000000006)\n",
      "('AUC:', 0.8886827458256028)\n"
     ]
    },
    {
     "data": {
      "image/png": "[encoded data removed]",
      "text/plain": [
       "<matplotlib.figure.Figure at 0xe46b7f0>"
      ]
     },
     "metadata": {},
     "output_type": "display_data"
    }
   ],
   "source": [
    "y_pred     = svm_classifier.predict(x_test)\n",
    "\n",
    "metricas_modelos(y_test, y_pred)"
   ]
  },
  {
   "cell_type": "markdown",
   "metadata": {},
   "source": [
    "# Clasificación de k-nn con 3 vecinos"
   ]
  },
  {
   "cell_type": "code",
   "execution_count": 86,
   "metadata": {
    "collapsed": true
   },
   "outputs": [],
   "source": [
    "from sklearn.neighbors import KNeighborsClassifier"
   ]
  },
  {
   "cell_type": "code",
   "execution_count": 87,
   "metadata": {},
   "outputs": [],
   "source": [
    "target = 34\n",
    "features = list(dfIon.columns)\n",
    "features.remove(34)\n",
    "\n",
    "x = dfIon[features]\n",
    "y = dfIon[target]"
   ]
  },
  {
   "cell_type": "markdown",
   "metadata": {},
   "source": [
    "La implementación del algoritmo de k-means lo haré según el clasificador y posterior entrenamiento de las variables."
   ]
  },
  {
   "cell_type": "code",
   "execution_count": 89,
   "metadata": {},
   "outputs": [
    {
     "name": "stdout",
     "output_type": "stream",
     "text": [
      "La matriz de confusión es\n",
      "[[ 80  24]\n",
      " [  1 175]]\n",
      "('Precisi\\xc3\\xb3n:', 0.9107142857142857)\n",
      "('Exactitud:', 0.87939698492462315)\n",
      "('Exhaustividad:', 0.99431818181818177)\n",
      "('F1:', 0.93333333333333324)\n",
      "('AUC:', 0.8817744755244753)\n"
     ]
    },
    {
     "data": {
      "image/png": "[encoded data removed]",
      "text/plain": [
       "<matplotlib.figure.Figure at 0x11a4e4f0>"
      ]
     },
     "metadata": {},
     "output_type": "display_data"
    }
   ],
   "source": [
    "knn3 = KNeighborsClassifier(3)\n",
    "knn3.fit(x, y)\n",
    "\n",
    "y_pred     = knn3.predict(x_train)\n",
    "metricas_modelos(y_train, y_pred)"
   ]
  },
  {
   "cell_type": "code",
   "execution_count": 90,
   "metadata": {},
   "outputs": [
    {
     "name": "stdout",
     "output_type": "stream",
     "text": [
      "La matriz de confusión es\n",
      "[[18  4]\n",
      " [ 2 47]]\n",
      "('Precisi\\xc3\\xb3n:', 0.91549295774647887)\n",
      "('Exactitud:', 0.92156862745098034)\n",
      "('Exhaustividad:', 0.95918367346938771)\n",
      "('F1:', 0.94000000000000006)\n",
      "('AUC:', 0.8886827458256028)\n"
     ]
    },
    {
     "data": {
      "image/png": "[encoded data removed]",
      "text/plain": [
       "<matplotlib.figure.Figure at 0xde43130>"
      ]
     },
     "metadata": {},
     "output_type": "display_data"
    }
   ],
   "source": [
    "y_pred     = knn3.predict(x_test)\n",
    "\n",
    "metricas_modelos(y_test, y_pred)"
   ]
  },
  {
   "cell_type": "markdown",
   "metadata": {},
   "source": [
    "# Clasificación de k-nn con 5 vecinos"
   ]
  },
  {
   "cell_type": "markdown",
   "metadata": {},
   "source": [
    "Ahora lo modificamos para el caso de los 5 vecinos."
   ]
  },
  {
   "cell_type": "code",
   "execution_count": 91,
   "metadata": {},
   "outputs": [
    {
     "name": "stdout",
     "output_type": "stream",
     "text": [
      "La matriz de confusión es\n",
      "[[ 68  36]\n",
      " [  1 175]]\n",
      "('Precisi\\xc3\\xb3n:', 0.86785714285714288)\n",
      "('Exactitud:', 0.82938388625592419)\n",
      "('Exhaustividad:', 0.99431818181818177)\n",
      "('F1:', 0.90439276485788123)\n",
      "('AUC:', 0.82408216783216781)\n"
     ]
    },
    {
     "data": {
      "image/png": "[encoded data removed]",
      "text/plain": [
       "<matplotlib.figure.Figure at 0xe4aff10>"
      ]
     },
     "metadata": {},
     "output_type": "display_data"
    }
   ],
   "source": [
    "knn5 = KNeighborsClassifier(5)\n",
    "knn5.fit(x, y)\n",
    "\n",
    "y_pred     = knn5.predict(x_train)\n",
    "metricas_modelos(y_train, y_pred)"
   ]
  },
  {
   "cell_type": "code",
   "execution_count": 92,
   "metadata": {},
   "outputs": [
    {
     "name": "stdout",
     "output_type": "stream",
     "text": [
      "La matriz de confusión es\n",
      "[[17  5]\n",
      " [ 2 47]]\n",
      "('Precisi\\xc3\\xb3n:', 0.90140845070422537)\n",
      "('Exactitud:', 0.90384615384615385)\n",
      "('Exhaustividad:', 0.95918367346938771)\n",
      "('F1:', 0.93069306930693074)\n",
      "('AUC:', 0.86595547309833021)\n"
     ]
    },
    {
     "data": {
      "image/png": "[encoded data removed]",
      "text/plain": [
       "<matplotlib.figure.Figure at 0x11a44330>"
      ]
     },
     "metadata": {},
     "output_type": "display_data"
    }
   ],
   "source": [
    "y_pred     = knn5.predict(x_test)\n",
    "metricas_modelos(y_test, y_pred)"
   ]
  },
  {
   "cell_type": "markdown",
   "metadata": {},
   "source": [
    "*Apartado 1.\t¿Qué clasificador muestra una mayor precisión?*"
   ]
  },
  {
   "cell_type": "markdown",
   "metadata": {},
   "source": [
    "- Según los datos encontrados en todos los modelos, el que mas precisión da es el de Máquinas de vector soporte con una precisión de 0,94 en el entrenamiento y 0,9154 en la validación"
   ]
  },
  {
   "cell_type": "markdown",
   "metadata": {},
   "source": [
    "*Apartado 2.\t¿Qué clasificador muestra un menor error de tipo I?*"
   ]
  },
  {
   "cell_type": "code",
   "execution_count": null,
   "metadata": {
    "collapsed": true
   },
   "outputs": [],
   "source": []
  },
  {
   "cell_type": "markdown",
   "metadata": {},
   "source": [
    "*Apartado 3. ¿Qué clasificador muestra un menor error de tipo II?*"
   ]
  },
  {
   "cell_type": "code",
   "execution_count": null,
   "metadata": {
    "collapsed": true
   },
   "outputs": [],
   "source": []
  }
 ],
 "metadata": {
  "kernelspec": {
   "display_name": "Python 2",
   "language": "python",
   "name": "python2"
  },
  "language_info": {
   "codemirror_mode": {
    "name": "ipython",
    "version": 2
   },
   "file_extension": ".py",
   "mimetype": "text/x-python",
   "name": "python",
   "nbconvert_exporter": "python",
   "pygments_lexer": "ipython2",
   "version": "2.7.14"
  }
 },
 "nbformat": 4,
 "nbformat_minor": 2
}
